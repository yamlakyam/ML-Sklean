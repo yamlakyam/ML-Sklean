{
 "cells": [
  {
   "cell_type": "code",
   "execution_count": 3,
   "id": "34c510a6",
   "metadata": {},
   "outputs": [],
   "source": [
    "from sklearn import datasets\n",
    "import pandas as pd\n",
    "import numpy as np\n",
    "import matplotlib.pyplot as plt"
   ]
  },
  {
   "cell_type": "markdown",
   "id": "22ec17b0",
   "metadata": {},
   "source": [
    "# Classification"
   ]
  },
  {
   "cell_type": "code",
   "execution_count": 2,
   "id": "7017a9dd",
   "metadata": {},
   "outputs": [],
   "source": [
    "# Classification - target is 'this' or 'not that' - discrete, qualitative outcomes\n",
    "    # represented using a binary variable\n",
    "# regression - target continuosyly varying variable\n",
    "# features= predictor variables = Independent Variables\n",
    "# Target Variables = dependent variable = response variables\n"
   ]
  },
  {
   "cell_type": "code",
   "execution_count": null,
   "id": "5b0a9897",
   "metadata": {},
   "outputs": [],
   "source": []
  }
 ],
 "metadata": {
  "kernelspec": {
   "display_name": "Python 3 (ipykernel)",
   "language": "python",
   "name": "python3"
  },
  "language_info": {
   "codemirror_mode": {
    "name": "ipython",
    "version": 3
   },
   "file_extension": ".py",
   "mimetype": "text/x-python",
   "name": "python",
   "nbconvert_exporter": "python",
   "pygments_lexer": "ipython3",
   "version": "3.9.12"
  }
 },
 "nbformat": 4,
 "nbformat_minor": 5
}
